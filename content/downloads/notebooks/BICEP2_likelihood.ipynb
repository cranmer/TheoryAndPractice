{
 "metadata": {
  "name": ""
 },
 "nbformat": 3,
 "nbformat_minor": 0,
 "worksheets": [
  {
   "cells": [
    {
     "cell_type": "heading",
     "level": 1,
     "metadata": {},
     "source": [
      "Alternative error analysis for BICEP2 result"
     ]
    },
    {
     "cell_type": "markdown",
     "metadata": {},
     "source": [
      "Kyle Cranmer <kyle.cranmer@nyu.edu> Mar 17, 2014"
     ]
    },
    {
     "cell_type": "markdown",
     "metadata": {},
     "source": [
      "The BICEP2 error quoted on r is 0.2+0.07-0.05 (green below lines), and it looks like it's really a Bayesian shortest interval using a uniform prior on r.\n",
      "Let's see what the error bar looks like by using -2lnL < 1 (intersection of blue and red lines).\n",
      "The likelihood curve is shown [here](http://bicepkeck.org/B2_2014_i_figs/rconstraint.png) and they made the data public -- thanks BICEP2!"
     ]
    },
    {
     "cell_type": "code",
     "collapsed": false,
     "input": [
      "%pylab inline"
     ],
     "language": "python",
     "metadata": {},
     "outputs": [
      {
       "output_type": "stream",
       "stream": "stdout",
       "text": [
        "Populating the interactive namespace from numpy and matplotlib\n"
       ]
      }
     ],
     "prompt_number": 2
    },
    {
     "cell_type": "code",
     "collapsed": false,
     "input": [
      "import requests"
     ],
     "language": "python",
     "metadata": {},
     "outputs": [],
     "prompt_number": 3
    },
    {
     "cell_type": "code",
     "collapsed": false,
     "input": [
      "import numpy as np\n",
      "from matplotlib import pyplot as plt"
     ],
     "language": "python",
     "metadata": {},
     "outputs": [],
     "prompt_number": 4
    },
    {
     "cell_type": "code",
     "collapsed": false,
     "input": [
      "r=requests.get('http://bicepkeck.org/B2_3yr_rlikelihood_20140314.txt')"
     ],
     "language": "python",
     "metadata": {},
     "outputs": [],
     "prompt_number": 5
    },
    {
     "cell_type": "code",
     "collapsed": false,
     "input": [
      "header = r.text.split('\\n')[:12]"
     ],
     "language": "python",
     "metadata": {},
     "outputs": [],
     "prompt_number": 6
    },
    {
     "cell_type": "markdown",
     "metadata": {},
     "source": [
      "Convert the text into an array of floats."
     ]
    },
    {
     "cell_type": "code",
     "collapsed": false,
     "input": [
      "rawLikelihoodData = r.text.split('\\n')[13:]"
     ],
     "language": "python",
     "metadata": {},
     "outputs": [],
     "prompt_number": 7
    },
    {
     "cell_type": "code",
     "collapsed": false,
     "input": [
      "likelihoodScan = []\n",
      "temp = [i.split('\\t') for i in rawLikelihoodData]\n",
      "temp\n",
      "for x,y in temp[:-1]:\n",
      "    likelihoodScan.append([float(x), float(y)])\n",
      "likelihoodScan = np.array(likelihoodScan)"
     ],
     "language": "python",
     "metadata": {},
     "outputs": [],
     "prompt_number": 8
    },
    {
     "cell_type": "markdown",
     "metadata": {},
     "source": [
      "And the integral is ~1 (so it's like a normalized posterior including the bin width ie. prob/0.001)"
     ]
    },
    {
     "cell_type": "code",
     "collapsed": false,
     "input": [
      "np.sum(likelihoodScan[:,1])"
     ],
     "language": "python",
     "metadata": {},
     "outputs": [
      {
       "metadata": {},
       "output_type": "pyout",
       "prompt_number": 9,
       "text": [
        "0.99999982967601886"
       ]
      }
     ],
     "prompt_number": 9
    },
    {
     "cell_type": "markdown",
     "metadata": {},
     "source": [
      "Get shortest interval, it will be from [0.145,0.262] to get the 68% for 1$\\sigma$"
     ]
    },
    {
     "cell_type": "code",
     "collapsed": false,
     "input": [
      "lmax = likelihoodScan[:,1].max()\n",
      "rpeak = np.where(likelihoodScan[:,1]==lmax)[0][0]"
     ],
     "language": "python",
     "metadata": {},
     "outputs": [],
     "prompt_number": 10
    },
    {
     "cell_type": "code",
     "collapsed": false,
     "input": [
      "rminBicep, rmaxBicep = rpeak,rpeak\n",
      "integral,cutoff=0.,lmax-lmax/1000\n",
      "while integral<0.68:\n",
      "    rRange = np.where(likelihoodScan[:,1]>cutoff)\n",
      "    rminBicep=np.min(rRange)\n",
      "    rmaxBicep=np.max(rRange)\n",
      "    integral = np.sum(likelihoodScan[rminBicep:rmaxBicep,1])\n",
      "    cutoff-=lmax/1000\n",
      "print '[%f, %f]'%( rminBicep, rmaxBicep)"
     ],
     "language": "python",
     "metadata": {},
     "outputs": [
      {
       "output_type": "stream",
       "stream": "stdout",
       "text": [
        "[145.000000, 262.000000]\n"
       ]
      }
     ],
     "prompt_number": 11
    },
    {
     "cell_type": "markdown",
     "metadata": {},
     "source": [
      "Remake the likelihood curve shown [here](http://bicepkeck.org/B2_2014_i_figs/rconstraint.png)"
     ]
    },
    {
     "cell_type": "code",
     "collapsed": false,
     "input": [
      "plt.plot(likelihoodScan[:,0],likelihoodScan[:,1])\n",
      "plt.plot(likelihoodScan[rminBicep:rmaxBicep,0],likelihoodScan[rminBicep:rmaxBicep,1],'g')\n",
      "plt.plot([rminBicep/1000.,rminBicep/1000.],[0.,likelihoodScan[rminBicep,1]],'g')\n",
      "plt.plot([rmaxBicep/1000.,rmaxBicep/1000.],[0.,likelihoodScan[rmaxBicep,1]],'g')\n",
      "plt.xlabel('r')\n",
      "plt.ylabel('Likelihood')"
     ],
     "language": "python",
     "metadata": {},
     "outputs": [
      {
       "metadata": {},
       "output_type": "pyout",
       "prompt_number": 12,
       "text": [
        "<matplotlib.text.Text at 0x110b42b10>"
       ]
      },
      {
       "metadata": {},
       "output_type": "display_data",
       "png": "[encoded data removed]",
       "text": [
        "<matplotlib.figure.Figure at 0x1109f9790>"
       ]
      }
     ],
     "prompt_number": 12
    },
    {
     "cell_type": "markdown",
     "metadata": {},
     "source": [
      "Fortunately, a constant factor on the likelihood cancels out in likelihood ratio (or difference of log likelihoods). So let's see what the typical $\\Delta \\log L$ or $\\Delta \\chi^2$ interval would look like."
     ]
    },
    {
     "cell_type": "code",
     "collapsed": false,
     "input": [
      "minLogL = -2 * np.log(np.max(likelihoodScan[:,1]))\n",
      "rmin, rmax = 0,0\n",
      "for r, l in likelihoodScan:\n",
      "    if -2*np.log(l)-minLogL < 1:\n",
      "        rmin= r\n",
      "        break\n",
      "        \n",
      "for r, l in likelihoodScan[200:]:\n",
      "    if -2*np.log(l)-minLogL > 1:\n",
      "        rmax=r\n",
      "        break\n",
      "print '[%f, %f]'%( rmin, rmax)"
     ],
     "language": "python",
     "metadata": {},
     "outputs": [
      {
       "output_type": "stream",
       "stream": "stdout",
       "text": [
        "[0.147000, 0.260000]\n"
       ]
      }
     ],
     "prompt_number": 23
    },
    {
     "cell_type": "code",
     "collapsed": false,
     "input": [
      "plt.plot(likelihoodScan[:,0],-2* np.log(likelihoodScan[:,1])-minLogL)\n",
      "plt.plot([0,0.8],[1.,1.],'r')\n",
      "plt.plot([rmaxBicep/1000.,rmaxBicep/1000.],[0.,1.],'g')\n",
      "plt.plot([rminBicep/1000.,rminBicep/1000.],[0.,1.],'g')\n",
      "plt.plot([rmax,rmax],[0.,1.],'r')\n",
      "plt.plot([rmin,rmin],[0.,1.],'r')\n",
      "plt.xlabel('r')\n",
      "plt.ylabel('-2 ln Likleihood')\n",
      "plt.ylim([0,2])\n",
      "plt.xlim([0.1,0.3])"
     ],
     "language": "python",
     "metadata": {},
     "outputs": [
      {
       "metadata": {},
       "output_type": "pyout",
       "prompt_number": 24,
       "text": [
        "(0.1, 0.3)"
       ]
      },
      {
       "metadata": {},
       "output_type": "display_data",
       "png": "[encoded data removed]",
       "text": [
        "<matplotlib.figure.Figure at 0x1109e1a10>"
       ]
      }
     ],
     "prompt_number": 24
    },
    {
     "cell_type": "markdown",
     "metadata": {},
     "source": [
      "So that's slightly different from the BICEP2 result. In terms of the Bayesian credibility, that interval corresponds to"
     ]
    },
    {
     "cell_type": "code",
     "collapsed": false,
     "input": [
      "np.sum(likelihoodScan[147:260,1])"
     ],
     "language": "python",
     "metadata": {},
     "outputs": [
      {
       "metadata": {},
       "output_type": "pyout",
       "prompt_number": 25,
       "text": [
        "0.66418630000000012"
       ]
      }
     ],
     "prompt_number": 25
    },
    {
     "cell_type": "markdown",
     "metadata": {},
     "source": [
      "Slightly different numbers and a different probabilistic interpretation, but luckily it doesn't change the profound result. "
     ]
    },
    {
     "cell_type": "markdown",
     "metadata": {},
     "source": [
      "Assuming that the BICEP2 data are in the asymptotic regieme, then we can quickly estimate the statistical significance of the observation (testing the r=0 hypothesis). "
     ]
    },
    {
     "cell_type": "code",
     "collapsed": false,
     "input": [
      "significance = np.sqrt(-2*np.log(likelihoodScan[0,1]))"
     ],
     "language": "python",
     "metadata": {},
     "outputs": [],
     "prompt_number": 26
    },
    {
     "cell_type": "code",
     "collapsed": false,
     "input": [
      "significance"
     ],
     "language": "python",
     "metadata": {},
     "outputs": [
      {
       "metadata": {},
       "output_type": "pyout",
       "prompt_number": 27,
       "text": [
        "7.6406188623296876"
       ]
      }
     ],
     "prompt_number": 27
    },
    {
     "cell_type": "markdown",
     "metadata": {},
     "source": [
      "This was done during a Software Carpentry bootcamp at NYU, it's more of a fun python project than a critique of the BICEP2 result.  Congratulations to BICEP2!"
     ]
    }
   ],
   "metadata": {}
  }
 ]
}