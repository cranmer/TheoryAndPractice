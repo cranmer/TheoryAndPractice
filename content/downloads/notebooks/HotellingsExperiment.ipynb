{
 "metadata": {
  "name": ""
 },
 "nbformat": 3,
 "nbformat_minor": 0,
 "worksheets": [
  {
   "cells": [
    {
     "cell_type": "heading",
     "level": 1,
     "metadata": {},
     "source": [
      "Hotelling's Experiment"
     ]
    },
    {
     "cell_type": "markdown",
     "metadata": {},
     "source": [
      "License: BSD (C) 2014, Kyle Cranmer. Feel free to use, distribute, and modify with the above attribution."
     ]
    },
    {
     "cell_type": "markdown",
     "metadata": {},
     "source": [
      "This is an example of \"Design of Experiments\" - using the statistician's terminology - given in the [Wikipedia article](http://en.wikipedia.org/wiki/Design_of_experiments#Example). Aimed to be used for teaching undergraduate-level physics lab / data analysis course.\n",
      "\n",
      "**The problem is to give the best measurement of the mass of 8 objects using 8 uses of a chemical balance (which has some intrensic measurement error $\\sigma=1$.  On a chemical balance, you can put some of your objects on the left and some on the right to measure the difference of their masses.  **\n",
      "\n",
      "The code below follows the paper \n",
      "\"On Hotelling's Weighing Problem\" by \n",
      "Alexander M. Mood\n",
      "*Ann. Math. Statist.*\n",
      "Volume 17, Number 4 (1946), 377-556\n",
      "which you can find [here](http://projecteuclid.org/DPubS?verb=Display&version=1.0&service=UI&handle=euclid.aoms/1177730883&page=record).\n",
      "The setup is that there is that you provide an \"design matrix\" that indicates where you should put each of the objects on the scale for each of the 8 weighing operations.  Based on this design matrix, the code will give you the best estimate of the masses for a random experiment.\n",
      "\n",
      "At the bottom we run 10k experiments and compare the straight-forward approach (ie. measure each object once individually) vs. Hotelling's solution.\n",
      "\n",
      "<img alt=\"from wikipedia\" src=\"http://upload.wikimedia.org/wikipedia/commons/1/17/Balance_\u00e0_tabac_1850.JPG\" width=\"200\" />"
     ]
    },
    {
     "cell_type": "code",
     "collapsed": false,
     "input": [
      "%pylab inline"
     ],
     "language": "python",
     "metadata": {},
     "outputs": [
      {
       "output_type": "stream",
       "stream": "stdout",
       "text": [
        "Populating the interactive namespace from numpy and matplotlib\n"
       ]
      }
     ],
     "prompt_number": 1
    },
    {
     "cell_type": "code",
     "collapsed": false,
     "input": [
      "import numpy as np\n",
      "from matplotlib import pyplot as plt"
     ],
     "language": "python",
     "metadata": {},
     "outputs": [],
     "prompt_number": 2
    },
    {
     "cell_type": "code",
     "collapsed": false,
     "input": [
      "class DoExperiment():\n",
      "    \"\"\"\n",
      "    This class performs a weighing experiment given true weights and a design matrix.\n",
      "        It follows \"On Hotelling's Weighing Problem\" by \n",
      "        Alexander M. Mood *Ann. Math. Statist.*\n",
      "        Volume 17, Number 4 (1946), 377-556\n",
      "    \"\"\"\n",
      "    def __init__(self, design,truthWeights,withError=True):\n",
      "        self._truthWeights = truthWeights\n",
      "        self._design = design\n",
      "        self._withError = withError\n",
      "    def get_measurement(self):\n",
      "        X = self._design # eq.1\n",
      "        truthWeights = self._truthWeights\n",
      "\n",
      "        # design is matrix where rows are weighting operations\n",
      "        # columns are the masses of the objects\n",
      "        # and entries are +1 (left), -1 (right), or 0 not on balance\n",
      "        measurements = dot(X,truthWeights) \n",
      "\n",
      "        #now add gaussian random error to measurements\n",
      "        if self._withError:\n",
      "            measurements += np.random.normal(0,1,len(truthWeights))\n",
      "        \n",
      "        #the least squares best estimates of the true weights \n",
      "        aij = inv(dot(X.T,X)) #eq 2\n",
      "        estimates = dot(aij, dot(X,measurements)) #eq 3 & 4\n",
      "        return estimates                                                        "
     ],
     "language": "python",
     "metadata": {},
     "outputs": [],
     "prompt_number": 3
    },
    {
     "cell_type": "code",
     "collapsed": false,
     "input": [
      "#get 8 random numbers for the true weights of the objects\n",
      "truthWeights = np.random.normal(10,5,8)\n",
      "truthWeights"
     ],
     "language": "python",
     "metadata": {},
     "outputs": [
      {
       "metadata": {},
       "output_type": "pyout",
       "prompt_number": 4,
       "text": [
        "array([  6.41506648,  17.78102833,  14.06824604,   0.94515061,\n",
        "        13.66822659,   6.81498054,  12.80084059,  12.51520099])"
       ]
      }
     ],
     "prompt_number": 4
    },
    {
     "cell_type": "code",
     "collapsed": false,
     "input": [
      "#the straight-forward solution to this problem is to weigh each object once.\n",
      "NaiveDesign= zeros((8,8),int)\n",
      "np.fill_diagonal(NaiveDesign,1)\n",
      "NaiveDesign"
     ],
     "language": "python",
     "metadata": {},
     "outputs": [
      {
       "metadata": {},
       "output_type": "pyout",
       "prompt_number": 5,
       "text": [
        "array([[1, 0, 0, 0, 0, 0, 0, 0],\n",
        "       [0, 1, 0, 0, 0, 0, 0, 0],\n",
        "       [0, 0, 1, 0, 0, 0, 0, 0],\n",
        "       [0, 0, 0, 1, 0, 0, 0, 0],\n",
        "       [0, 0, 0, 0, 1, 0, 0, 0],\n",
        "       [0, 0, 0, 0, 0, 1, 0, 0],\n",
        "       [0, 0, 0, 0, 0, 0, 1, 0],\n",
        "       [0, 0, 0, 0, 0, 0, 0, 1]])"
       ]
      }
     ],
     "prompt_number": 5
    },
    {
     "cell_type": "code",
     "collapsed": false,
     "input": [
      "#The optimal solution to this problem is based on Hadamard Matrices\n",
      "from scipy.linalg import hadamard\n",
      "HotellingsDesign = hadamard(8)\n",
      "HotellingsDesign"
     ],
     "language": "python",
     "metadata": {},
     "outputs": [
      {
       "metadata": {},
       "output_type": "pyout",
       "prompt_number": 6,
       "text": [
        "array([[ 1,  1,  1,  1,  1,  1,  1,  1],\n",
        "       [ 1, -1,  1, -1,  1, -1,  1, -1],\n",
        "       [ 1,  1, -1, -1,  1,  1, -1, -1],\n",
        "       [ 1, -1, -1,  1,  1, -1, -1,  1],\n",
        "       [ 1,  1,  1,  1, -1, -1, -1, -1],\n",
        "       [ 1, -1,  1, -1, -1,  1, -1,  1],\n",
        "       [ 1,  1, -1, -1, -1, -1,  1,  1],\n",
        "       [ 1, -1, -1,  1, -1,  1,  1, -1]])"
       ]
      }
     ],
     "prompt_number": 6
    },
    {
     "cell_type": "code",
     "collapsed": false,
     "input": [
      "#test that perfect experiment (with no measurement error) gives\n",
      "#back the true weights\n",
      "[abs(residual)<1E-5 for residual in \\\n",
      " (DoExperiment(HotellingsDesign,truthWeights,withError=False).get_measurement()-truthWeights)]"
     ],
     "language": "python",
     "metadata": {},
     "outputs": [
      {
       "metadata": {},
       "output_type": "pyout",
       "prompt_number": 7,
       "text": [
        "[True, True, True, True, True, True, True, True]"
       ]
      }
     ],
     "prompt_number": 7
    },
    {
     "cell_type": "code",
     "collapsed": false,
     "input": [
      "#Same test for Niave Design\n",
      "[abs(residual)<1E-5 for residual in \\\n",
      " (DoExperiment(NaiveDesign,truthWeights,withError=False).get_measurement()-truthWeights)]"
     ],
     "language": "python",
     "metadata": {},
     "outputs": [
      {
       "metadata": {},
       "output_type": "pyout",
       "prompt_number": 8,
       "text": [
        "[True, True, True, True, True, True, True, True]"
       ]
      }
     ],
     "prompt_number": 8
    },
    {
     "cell_type": "code",
     "collapsed": false,
     "input": [
      "#Ok, now run 10k weighing experiments\n",
      "#without loss of generality compare measurement of first object\n",
      "nBins = 50\n",
      "data_standard = []\n",
      "data_hotelling = []\n",
      "for i in range(10000):\n",
      "    data_standard.append(DoExperiment(NaiveDesign,truthWeights).get_measurement()[0])\n",
      "    data_hotelling.append(DoExperiment(HotellingsDesign,truthWeights).get_measurement()[0])\n",
      "\n",
      "\n",
      "print 'standard = ', np.std(data_standard), 'vs hotelling = ', np.std(data_hotelling)\n",
      "print 'observed improvement = ', np.std(data_standard)/np.std(data_hotelling)\n",
      "print 'expected improvement = ', sqrt(8)\n",
      "    \n",
      "heights, edges, patches = plt.hist(data_standard,bins=nBins, alpha=0.5)\n",
      "plt.hist(data_hotelling,edges, alpha=0.5)\n",
      "plt.show()"
     ],
     "language": "python",
     "metadata": {},
     "outputs": [
      {
       "output_type": "stream",
       "stream": "stdout",
       "text": [
        "standard =  1.00535627048 vs hotelling =  0.356687120426\n",
        "observed improvement =  2.81859426065\n",
        "expected improvement =  2.82842712475\n"
       ]
      },
      {
       "metadata": {},
       "output_type": "display_data",
       "png": "[encoded data removed]",
       "text": [
        "<matplotlib.figure.Figure at 0x107242110>"
       ]
      }
     ],
     "prompt_number": 9
    },
    {
     "cell_type": "markdown",
     "metadata": {},
     "source": [
      "Nice!\n",
      "\n",
      "you can see the IPython notebook in GitHub [here](https://github.com/cranmer/play/blob/master/Teaching/HotellingsExperiment.ipynb):"
     ]
    }
   ],
   "metadata": {}
  }
 ]
}