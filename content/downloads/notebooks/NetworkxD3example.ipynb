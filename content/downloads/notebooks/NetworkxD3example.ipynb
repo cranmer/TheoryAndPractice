{
 "cells": [
  {
   "cell_type": "code",
   "execution_count": 12,
   "metadata": {
    "collapsed": false
   },
   "outputs": [
    {
     "data": {
      "text/html": [
       "\n",
       "        <iframe\n",
       "            width=\"400\"\n",
       "            height=\"400\"\n",
       "            src=\"Net.html\"\n",
       "            frameborder=\"0\"\n",
       "            allowfullscreen\n",
       "        ></iframe>\n",
       "        "
      ],
      "text/plain": [
       "<IPython.lib.display.IFrame at 0x1133f45d0>"
      ]
     },
     "execution_count": 12,
     "metadata": {},
     "output_type": "execute_result"
    }
   ],
   "source": [
    "import networkx as nx\n",
    "from NetworkxD3.NetworkxD3 import simpleNetworkx\n",
    "from IPython.display import IFrame \n",
    "\n",
    "G = nx.Graph()\n",
    "H = [\"Cranmer\",\"Heinrich\",\"Foreman-Mackey\",\"Whiteson\",\"Haas\",\"Streets\",\"\", \"H\",\"I\",\"J\"]\n",
    "G.add_nodes_from(H)\n",
    "G.add_edges_from([(\"Cranmer\",\"Heinrich\"), (\"Cranmer\",\"Foreman-Mackey\"), (\"Cranmer\",\"Whiteson\"), (\"Cranmer\",\"Haas\"), (\"Cranmer\",\"E\"), (\"Cranmer\",\"F\"),\n",
    "(\"Cranmer\",\"Streets\"),(\"Cranmer\",\"H\"),(\"I\",\"H\"), (\"H\",\"J\"),(\"Cranmer\",\"J\")])\n",
    "\n",
    "simpleNetworkx(G)\n",
    "IFrame('Net.html', width=400, height=400)"
   ]
  },
  {
   "cell_type": "code",
   "execution_count": 4,
   "metadata": {
    "collapsed": false
   },
   "outputs": [],
   "source": [
    "import NetworkxD3"
   ]
  },
  {
   "cell_type": "code",
   "execution_count": 6,
   "metadata": {
    "collapsed": false
   },
   "outputs": [
    {
     "data": {
      "text/plain": [
       "['__builtins__',\n",
       " '__doc__',\n",
       " '__file__',\n",
       " '__name__',\n",
       " '__package__',\n",
       " 'com',\n",
       " 'importr',\n",
       " 'nx',\n",
       " 'p',\n",
       " 'ro',\n",
       " 'simpleNetworkx']"
      ]
     },
     "execution_count": 6,
     "metadata": {},
     "output_type": "execute_result"
    }
   ],
   "source": [
    "dir(NetworkxD3.NetworkxD3)"
   ]
  },
  {
   "cell_type": "code",
   "execution_count": null,
   "metadata": {
    "collapsed": true
   },
   "outputs": [],
   "source": []
  }
 ],
 "metadata": {
  "kernelspec": {
   "display_name": "Python 2",
   "language": "python",
   "name": "python2"
  },
  "language_info": {
   "codemirror_mode": {
    "name": "ipython",
    "version": 2
   },
   "file_extension": ".py",
   "mimetype": "text/x-python",
   "name": "python",
   "nbconvert_exporter": "python",
   "pygments_lexer": "ipython2",
   "version": "2.7.10"
  }
 },
 "nbformat": 4,
 "nbformat_minor": 0
}
